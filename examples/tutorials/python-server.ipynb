{
 "cells": [
  {
   "cell_type": "markdown",
   "id": "aa0f5648-85d9-4e42-ab3a-f622bdfb8aa8",
   "metadata": {},
   "source": [
    "# MemGPT Server Tutorial "
   ]
  },
  {
   "cell_type": "code",
   "execution_count": null,
   "id": "0de0c50b-9e39-4bfe-974e-51c177da6658",
   "metadata": {},
   "outputs": [],
   "source": [
    "from memgpt.config import MemGPTConfig \n",
    "from memgpt.confim\n",
    "\n",
    "\n",
    "config = MemGPTConfig(\n",
    "    llm_config = LLMConfig(\n",
    "        "
   ]
  }
 ],
 "metadata": {
  "kernelspec": {
   "display_name": "memgpt",
   "language": "python",
   "name": "memgpt"
  },
  "language_info": {
   "codemirror_mode": {
    "name": "ipython",
    "version": 3
   },
   "file_extension": ".py",
   "mimetype": "text/x-python",
   "name": "python",
   "nbconvert_exporter": "python",
   "pygments_lexer": "ipython3",
   "version": "3.12.2"
  }
 },
 "nbformat": 4,
 "nbformat_minor": 5
}
