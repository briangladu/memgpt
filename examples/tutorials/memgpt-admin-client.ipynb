{
 "cells": [
  {
   "cell_type": "code",
   "execution_count": null,
   "id": "fb13c7bc-fbb4-4ccd-897c-08995db258e8",
   "metadata": {},
   "outputs": [],
   "source": [
    "from memgpt import Admin \n",
    "\n",
    "#base_url = \"http://35.238.125.250:8283\"\n",
    "\n",
    "#base_url = \"http://0.0.0.0:8083\"\n",
    "base_url = \"http://35.238.125.250:8083\"\n",
    "token=\"memgptadmin\" \n",
    "\n",
    "admin_client = Admin(base_url=base_url, token=\"memgptadmin\")"
   ]
  },
  {
   "cell_type": "code",
   "execution_count": null,
   "id": "984b8249-a3f7-40d1-9691-4d128f9a90ff",
   "metadata": {},
   "outputs": [],
   "source": [
    "user = admin_client.create_user()"
   ]
  },
  {
   "cell_type": "code",
   "execution_count": null,
   "id": "be31ab40-0deb-42c4-8213-08597d1cf34b",
   "metadata": {},
   "outputs": [],
   "source": [
    "tool = admin_client.create_tool(name=\"google_search_tool_simple\", file_path=\"/Users/sarahwooders/repos/memgpt-main/MemGPT/google_search_tool.py\")"
   ]
  },
  {
   "cell_type": "code",
   "execution_count": null,
   "id": "93b9d980-f050-41d3-94c9-59461f77fa6c",
   "metadata": {},
   "outputs": [],
   "source": [
    "tool = admin_client.create_tool(name=\"research\", file_path=\"/Users/sarahwooders/repos/memgpt-main/MemGPT/best_consultants.py\")"
   ]
  },
  {
   "cell_type": "markdown",
   "id": "4720d76f-b249-4ef7-a8a9-f3231c1e785a",
   "metadata": {},
   "source": [
    "# Create Users"
   ]
  },
  {
   "cell_type": "code",
   "execution_count": null,
   "id": "8da540a8-d0fa-419f-9594-83ea011c909c",
   "metadata": {},
   "outputs": [],
   "source": [
    "for i in range(60): \n",
    "    user = admin_client.create_user()\n",
    "    print(user.api_key)"
   ]
  },
  {
   "cell_type": "markdown",
   "id": "d606383d-25a4-4c59-9453-2834aef5c9a8",
   "metadata": {},
   "source": [
    "# Delete Users "
   ]
  },
  {
   "cell_type": "code",
   "execution_count": null,
   "id": "411da114-9d8f-45f9-8dd2-dca339231993",
   "metadata": {},
   "outputs": [],
   "source": [
    "#admin_client._reset_server()"
   ]
  },
  {
   "cell_type": "code",
   "execution_count": null,
   "id": "2a0bb5f7-55e7-4152-88d5-57ae06c2daab",
   "metadata": {},
   "outputs": [],
   "source": []
  }
 ],
 "metadata": {
  "kernelspec": {
   "display_name": "memgpt",
   "language": "python",
   "name": "memgpt"
  },
  "language_info": {
   "codemirror_mode": {
    "name": "ipython",
    "version": 3
   },
   "file_extension": ".py",
   "mimetype": "text/x-python",
   "name": "python",
   "nbconvert_exporter": "python",
   "pygments_lexer": "ipython3",
   "version": "3.12.2"
  }
 },
 "nbformat": 4,
 "nbformat_minor": 5
}
